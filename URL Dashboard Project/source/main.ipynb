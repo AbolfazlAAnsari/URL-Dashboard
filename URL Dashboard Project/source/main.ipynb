{
 "cells": [
  {
   "cell_type": "code",
   "execution_count": 1,
   "metadata": {},
   "outputs": [
    {
     "name": "stdout",
     "output_type": "stream",
     "text": [
      "All Drivers are: \n",
      "SQL Server\n",
      "SQL Server Native Client RDA 11.0\n",
      "ODBC Driver 17 for SQL Server\n",
      "Cursor is <pyodbc.Cursor object at 0x000002C85440ACB0>\n"
     ]
    }
   ],
   "source": [
    "# Cell 1\n",
    "# Import needed packages\n",
    "import pyodbc\n",
    "\n",
    "print ( 'All Drivers are: ')\n",
    "for drivers in pyodbc.drivers(): \n",
    "    print ( drivers )\n",
    "\n",
    "\n",
    "# to connect we need two things:\n",
    "#   server name: read from sql server\n",
    "#   database name: we use URL Dashboard database that we defined\n",
    "\n",
    "server = 'DESKTOP-696L0M6'\n",
    "database = 'URLDashboard'\n",
    "\n",
    "# define connection string\n",
    "conn_str = pyodbc.connect('DRIVER={ODBC Driver 17 for SQL Server}; \\\n",
    "                         SERVER=' + server + '; \\\n",
    "                         DATABASE=' + database +'; \\\n",
    "                         Trusted_Connection=yes;')\n",
    "\n",
    "\n",
    "# Create the connection cursor\n",
    "cursor = conn_str.cursor()\n",
    "\n",
    "print ( f'Cursor is {cursor}' )"
   ]
  },
  {
   "cell_type": "code",
   "execution_count": 2,
   "metadata": {},
   "outputs": [],
   "source": [
    "# Cell 2\n",
    "# Write Schema of our Database\n",
    "\n",
    "\n",
    "create_link_table = '''\n",
    "    create table Link ( \n",
    "        link_id int primary key identity ( 1, 1 ), \n",
    "        short varchar(255) not null,\n",
    "        long varchar(255) not null\n",
    "    )\n",
    "'''\n",
    "\n",
    "create_create_event_table = '''\n",
    "    create table Create_Event ( \n",
    "        create_id int primary key identity ( 1, 1 ), \n",
    "        link_id int not null, \n",
    "        create_at datetime not null, \n",
    "        foreign key (link_id) references link ( link_id )\n",
    "    )\n",
    "'''\n",
    "\n",
    "create_reference_event_table = '''\n",
    "    create table Reference_Event ( \n",
    "        reference_id int primary key identity ( 1, 1 ), \n",
    "        link_id int not null, \n",
    "        reference_at datetime not null, \n",
    "        foreign key ( link_id ) references link ( link_id )\n",
    "    )\n",
    "'''\n",
    "\n",
    "# Execute the sql statement to create tables\n",
    "cursor.execute(create_link_table)\n",
    "cursor.execute(create_create_event_table)\n",
    "cursor.execute(create_reference_event_table)\n",
    "\n",
    "# Commit the changes and close the cursor\n",
    "cursor.commit()\n",
    "cursor.close()"
   ]
  },
  {
   "cell_type": "code",
   "execution_count": 3,
   "metadata": {},
   "outputs": [
    {
     "name": "stdout",
     "output_type": "stream",
     "text": [
      "The result of select * from Link is:\n",
      "The result of select * from Create_Event is:\n",
      "The result of select * from Reference_Event is:\n"
     ]
    }
   ],
   "source": [
    "# Cell 3\n",
    "# open the cursor\n",
    "cursor = conn_str.cursor()\n",
    "\n",
    "# Write function select * from \n",
    "\n",
    "def select_all(command):\n",
    "\n",
    "    print (f'The result of {command} is:')\n",
    "    \n",
    "    cursor.execute(command)\n",
    "    records = cursor.fetchall()\n",
    "    for record in records: \n",
    "        print ( record )\n",
    "\n",
    "select_all('select * from Link')\n",
    "select_all('select * from Create_Event')\n",
    "select_all('select * from Reference_Event')"
   ]
  },
  {
   "cell_type": "code",
   "execution_count": 4,
   "metadata": {},
   "outputs": [],
   "source": [
    "# Cell 4\n",
    "# Import needed packages\n",
    "import random\n",
    "import string\n",
    "from datetime import datetime"
   ]
  },
  {
   "cell_type": "code",
   "execution_count": 5,
   "metadata": {},
   "outputs": [
    {
     "data": {
      "text/plain": [
       "'d3s89e'"
      ]
     },
     "execution_count": 5,
     "metadata": {},
     "output_type": "execute_result"
    }
   ],
   "source": [
    "# Cell 5\n",
    "def short_generator():\n",
    "    # Generate a random strong of length 6 consisting of lowercase and digits\n",
    "    characters = string.ascii_lowercase + string.digits\n",
    "    return ''.join(random.choice(characters) for _ in range(6) )\n",
    "\n",
    "short_generator()"
   ]
  },
  {
   "cell_type": "code",
   "execution_count": 6,
   "metadata": {},
   "outputs": [
    {
     "data": {
      "text/plain": [
       "<pyodbc.Cursor at 0x2c85440a6b0>"
      ]
     },
     "execution_count": 6,
     "metadata": {},
     "output_type": "execute_result"
    }
   ],
   "source": [
    "# Cell 6\n",
    "# Write a trigger for insert on create_event after insert on Link table\n",
    "# Using Trigger\n",
    "insert_trigger = '''\n",
    "    create trigger insert_trigger \n",
    "    on Link\n",
    "    after insert\n",
    "    as \n",
    "    begin\n",
    "        insert into Create_Event ( link_id, create_at )\n",
    "        select link_id, getdate()\n",
    "        from inserted\n",
    "    end\n",
    "'''\n",
    "\n",
    "cursor.execute(insert_trigger)"
   ]
  },
  {
   "cell_type": "code",
   "execution_count": 7,
   "metadata": {},
   "outputs": [],
   "source": [
    "# Cell 7\n",
    "def insertion(cursor, long_url): \n",
    "\n",
    "    # Check if the url already exists or not\n",
    "    checker = 'select * from Link where long = ?'\n",
    "    cursor.execute(checker, long_url)\n",
    "    existing_link = cursor.fetchone()\n",
    "\n",
    "    if existing_link:\n",
    "        # If alread exists\n",
    "        return existing_link.short\n",
    "    \n",
    "    else: \n",
    "        # Generate a short\n",
    "        short = short_generator()\n",
    "\n",
    "    link_insertion = 'insert into Link (short, long) values ( ? ,? )'\n",
    "    cursor.execute(link_insertion, short, long_url)\n",
    "\n",
    "    cursor.commit()\n",
    "\n",
    "    return short"
   ]
  },
  {
   "cell_type": "code",
   "execution_count": 8,
   "metadata": {},
   "outputs": [
    {
     "data": {
      "text/plain": [
       "'5j0jv3'"
      ]
     },
     "execution_count": 8,
     "metadata": {},
     "output_type": "execute_result"
    }
   ],
   "source": [
    "# Cell 8\n",
    "# Insert some rows and check the status\n",
    "insertion(cursor, 'https://www.google.com')"
   ]
  },
  {
   "cell_type": "code",
   "execution_count": 9,
   "metadata": {},
   "outputs": [
    {
     "name": "stdout",
     "output_type": "stream",
     "text": [
      "The result of select * from Link is:\n",
      "(1, '5j0jv3', 'https://www.google.com')\n",
      "The result of select * from Create_Event is:\n",
      "(1, 1, datetime.datetime(2023, 6, 20, 19, 15, 29, 370000))\n",
      "The result of select * from Reference_Event is:\n"
     ]
    }
   ],
   "source": [
    "# Cell 9\n",
    "select_all('select * from Link')\n",
    "select_all('select * from Create_Event')\n",
    "select_all('select * from Reference_Event')"
   ]
  },
  {
   "cell_type": "code",
   "execution_count": 10,
   "metadata": {},
   "outputs": [
    {
     "data": {
      "text/plain": [
       "'5j0jv3'"
      ]
     },
     "execution_count": 10,
     "metadata": {},
     "output_type": "execute_result"
    }
   ],
   "source": [
    "# Cell 10\n",
    "# No change affect\n",
    "insertion(cursor, 'https://www.google.com')"
   ]
  },
  {
   "cell_type": "code",
   "execution_count": 11,
   "metadata": {},
   "outputs": [
    {
     "name": "stdout",
     "output_type": "stream",
     "text": [
      "The result of select * from Link is:\n",
      "(1, '5j0jv3', 'https://www.google.com')\n",
      "The result of select * from Create_Event is:\n",
      "(1, 1, datetime.datetime(2023, 6, 20, 19, 15, 29, 370000))\n",
      "The result of select * from Reference_Event is:\n"
     ]
    }
   ],
   "source": [
    "# Cell 11\n",
    "select_all('select * from Link')\n",
    "select_all('select * from Create_Event')\n",
    "select_all('select * from Reference_Event')"
   ]
  },
  {
   "cell_type": "code",
   "execution_count": 12,
   "metadata": {},
   "outputs": [],
   "source": [
    "# Cell 12\n",
    "# Give the short form and get the Long form of link\n",
    "\n",
    "def reference(cursor, short):\n",
    "    \n",
    "    # Checker query\n",
    "    # check is this short link exists or not\n",
    "    select_query = 'select link_id, long from Link where short = ?'\n",
    "    cursor.execute(select_query, short)\n",
    "    result = cursor.fetchone()\n",
    "\n",
    "    if result:\n",
    "        # Insert the reference event into the Reference_Event table\n",
    "        link_id = result.link_id\n",
    "        insert_query = 'insert into Reference_Event(link_id, reference_at) values (?, getdate())'\n",
    "        cursor.execute(insert_query, link_id)\n",
    "        cursor.commit()\n",
    "        # Return the corresponding URL\n",
    "        return result.long\n",
    "    else:\n",
    "        # Throw an error if short does not exist\n",
    "        raise ValueError('Short form does not exist')\n",
    "    "
   ]
  },
  {
   "cell_type": "code",
   "execution_count": 13,
   "metadata": {},
   "outputs": [
    {
     "data": {
      "text/plain": [
       "'https://www.google.com'"
      ]
     },
     "execution_count": 13,
     "metadata": {},
     "output_type": "execute_result"
    }
   ],
   "source": [
    "# Cell 13\n",
    "reference(cursor, '5j0jv3')"
   ]
  },
  {
   "cell_type": "code",
   "execution_count": 14,
   "metadata": {},
   "outputs": [
    {
     "ename": "ValueError",
     "evalue": "Short form does not exist",
     "output_type": "error",
     "traceback": [
      "\u001b[1;31m---------------------------------------------------------------------------\u001b[0m",
      "\u001b[1;31mValueError\u001b[0m                                Traceback (most recent call last)",
      "Cell \u001b[1;32mIn[14], line 2\u001b[0m\n\u001b[0;32m      1\u001b[0m \u001b[39m# Cell 14\u001b[39;00m\n\u001b[1;32m----> 2\u001b[0m reference(cursor, \u001b[39m'\u001b[39;49m\u001b[39m112233\u001b[39;49m\u001b[39m'\u001b[39;49m)\n",
      "Cell \u001b[1;32mIn[12], line 22\u001b[0m, in \u001b[0;36mreference\u001b[1;34m(cursor, short)\u001b[0m\n\u001b[0;32m     19\u001b[0m     \u001b[39mreturn\u001b[39;00m result\u001b[39m.\u001b[39mlong\n\u001b[0;32m     20\u001b[0m \u001b[39melse\u001b[39;00m:\n\u001b[0;32m     21\u001b[0m     \u001b[39m# Throw an error if short does not exist\u001b[39;00m\n\u001b[1;32m---> 22\u001b[0m     \u001b[39mraise\u001b[39;00m \u001b[39mValueError\u001b[39;00m(\u001b[39m'\u001b[39m\u001b[39mShort form does not exist\u001b[39m\u001b[39m'\u001b[39m)\n",
      "\u001b[1;31mValueError\u001b[0m: Short form does not exist"
     ]
    }
   ],
   "source": [
    "# Cell 14\n",
    "reference(cursor, '112233')"
   ]
  },
  {
   "cell_type": "code",
   "execution_count": 15,
   "metadata": {},
   "outputs": [],
   "source": [
    "# Cell 15\n",
    "\n",
    "# Get FK names\n",
    "get_FK_names = '''\n",
    "SELECT name FROM sys.foreign_keys \n",
    "WHERE referenced_object_id = OBJECT_ID('Link')\n",
    "'''\n",
    "cursor.execute(get_FK_names)\n",
    "FK_names = cursor.fetchall()\n",
    "FK_names = [row[0].replace(\"(\", \"\").replace(\")\", \"\").replace(\",\", \"\") for row in FK_names]\n",
    "\n",
    "\n",
    "# Alter table Create_Event ON DELETE CASCADE\n",
    "# For Deleteing from just one table instead of two\n",
    "alter_cascade_on_create_event = f'''\n",
    "    alter table Create_Event \n",
    "    drop constraint {FK_names[0]}\n",
    "\n",
    "    alter table Create_Event\n",
    "    add constraint FK_Create_Event\n",
    "    foreign key (link_id)\n",
    "    references link(link_id)\n",
    "    on delete cascade\n",
    "'''\n",
    "\n",
    "alter_cascade_on_reference_event = f'''\n",
    "    alter table Reference_Event \n",
    "    drop constraint {FK_names[1]}\n",
    "\n",
    "    alter table Reference_Event\n",
    "    add constraint FK_Reference_Event\n",
    "    foreign key (link_id)\n",
    "    references link(link_id)\n",
    "    on delete cascade\n",
    "'''\n",
    "\n",
    "cursor.execute(alter_cascade_on_create_event)\n",
    "cursor.execute(alter_cascade_on_reference_event)\n",
    "cursor.commit()\n"
   ]
  },
  {
   "cell_type": "code",
   "execution_count": 17,
   "metadata": {},
   "outputs": [],
   "source": [
    "# Cell 16\n",
    "\n",
    "# Remove Expired Links from link table\n",
    "# duration = 1 hour\n",
    "# You can change duration based on what you want\n",
    "# Using Procedure\n",
    "\n",
    "delete_expired_links_query = '''\n",
    "    create procedure DeleteExpiredLinks\n",
    "    as\n",
    "    begin\n",
    "        delete from Link\n",
    "        where link_id in (\n",
    "            select link_id\n",
    "            from create_event\n",
    "            where datediff(day, create_at, getdate()) > 7\n",
    "            --- where datediff(hour, create_at, getdate()) < 1\n",
    "        )\n",
    "    end\n",
    "'''\n",
    "\n",
    "cursor.execute(delete_expired_links_query)\n",
    "cursor.commit()"
   ]
  },
  {
   "cell_type": "code",
   "execution_count": 18,
   "metadata": {},
   "outputs": [
    {
     "name": "stdout",
     "output_type": "stream",
     "text": [
      "The result of select * from Link is:\n",
      "(1, '5j0jv3', 'https://www.google.com')\n",
      "The result of select * from Create_Event is:\n",
      "(1, 1, datetime.datetime(2023, 6, 20, 19, 15, 29, 370000))\n",
      "The result of select * from Reference_Event is:\n",
      "(1, 1, datetime.datetime(2023, 6, 20, 19, 16, 39, 923000))\n"
     ]
    }
   ],
   "source": [
    "# Cell 17\n",
    "\n",
    "select_all('select * from Link')\n",
    "select_all('select * from Create_Event')\n",
    "select_all('select * from Reference_Event')"
   ]
  },
  {
   "cell_type": "code",
   "execution_count": 19,
   "metadata": {},
   "outputs": [
    {
     "data": {
      "text/plain": [
       "'xf31ta'"
      ]
     },
     "execution_count": 19,
     "metadata": {},
     "output_type": "execute_result"
    }
   ],
   "source": [
    "# Cell 18\n",
    "\n",
    "insertion(cursor, 'https://github.io')"
   ]
  },
  {
   "cell_type": "code",
   "execution_count": 20,
   "metadata": {},
   "outputs": [
    {
     "data": {
      "text/plain": [
       "'2dv8jw'"
      ]
     },
     "execution_count": 20,
     "metadata": {},
     "output_type": "execute_result"
    }
   ],
   "source": [
    "# Cell 19\n",
    "\n",
    "insertion(cursor, 'https://youtube.com')\n",
    "insertion(cursor, 'https://aparat.ir')\n",
    "insertion(cursor, 'https://youtube.music.com')\n",
    "insertion(cursor, 'https://spotify.com')\n",
    "insertion(cursor, 'https://w3school.com')\n",
    "insertion(cursor, 'https://linkedin.com')"
   ]
  },
  {
   "cell_type": "code",
   "execution_count": 21,
   "metadata": {},
   "outputs": [
    {
     "name": "stdout",
     "output_type": "stream",
     "text": [
      "The result of select * from Link is:\n",
      "(1, '5j0jv3', 'https://www.google.com')\n",
      "(2, 'xf31ta', 'https://github.io')\n",
      "(3, 'vtlafj', 'https://youtube.com')\n",
      "(4, '41ci0f', 'https://aparat.ir')\n",
      "(5, '5bn258', 'https://youtube.music.com')\n",
      "(6, 's2awhm', 'https://spotify.com')\n",
      "(7, '5bw6ms', 'https://w3school.com')\n",
      "(8, '2dv8jw', 'https://linkedin.com')\n",
      "The result of select * from Create_Event is:\n",
      "(1, 1, datetime.datetime(2023, 6, 20, 19, 15, 29, 370000))\n",
      "(2, 2, datetime.datetime(2023, 6, 20, 19, 18, 57, 837000))\n",
      "(3, 3, datetime.datetime(2023, 6, 20, 19, 18, 59, 937000))\n",
      "(4, 4, datetime.datetime(2023, 6, 20, 19, 18, 59, 940000))\n",
      "(5, 5, datetime.datetime(2023, 6, 20, 19, 18, 59, 947000))\n",
      "(6, 6, datetime.datetime(2023, 6, 20, 19, 18, 59, 950000))\n",
      "(7, 7, datetime.datetime(2023, 6, 20, 19, 18, 59, 953000))\n",
      "(8, 8, datetime.datetime(2023, 6, 20, 19, 18, 59, 953000))\n",
      "The result of select * from Reference_Event is:\n",
      "(1, 1, datetime.datetime(2023, 6, 20, 19, 16, 39, 923000))\n"
     ]
    }
   ],
   "source": [
    "# Cell 20\n",
    "\n",
    "select_all('select * from Link')\n",
    "select_all('select * from Create_Event')\n",
    "select_all('select * from Reference_Event')"
   ]
  },
  {
   "cell_type": "code",
   "execution_count": 22,
   "metadata": {},
   "outputs": [],
   "source": [
    "# Cell 21\n",
    "# Reference multiple times randomly\n",
    "\n",
    "cursor.execute('select short from Link')\n",
    "short_links = [row.short for row in cursor.fetchall()]\n",
    "\n",
    "for _ in range(100):\n",
    "    short_link = random.choice(short_links)\n",
    "    reference(cursor, short_link)"
   ]
  },
  {
   "cell_type": "code",
   "execution_count": 23,
   "metadata": {},
   "outputs": [
    {
     "name": "stdout",
     "output_type": "stream",
     "text": [
      "The result of select * from Link is:\n",
      "(1, '5j0jv3', 'https://www.google.com')\n",
      "(2, 'xf31ta', 'https://github.io')\n",
      "(3, 'vtlafj', 'https://youtube.com')\n",
      "(4, '41ci0f', 'https://aparat.ir')\n",
      "(5, '5bn258', 'https://youtube.music.com')\n",
      "(6, 's2awhm', 'https://spotify.com')\n",
      "(7, '5bw6ms', 'https://w3school.com')\n",
      "(8, '2dv8jw', 'https://linkedin.com')\n",
      "The result of select * from Create_Event is:\n",
      "(1, 1, datetime.datetime(2023, 6, 20, 19, 15, 29, 370000))\n",
      "(2, 2, datetime.datetime(2023, 6, 20, 19, 18, 57, 837000))\n",
      "(3, 3, datetime.datetime(2023, 6, 20, 19, 18, 59, 937000))\n",
      "(4, 4, datetime.datetime(2023, 6, 20, 19, 18, 59, 940000))\n",
      "(5, 5, datetime.datetime(2023, 6, 20, 19, 18, 59, 947000))\n",
      "(6, 6, datetime.datetime(2023, 6, 20, 19, 18, 59, 950000))\n",
      "(7, 7, datetime.datetime(2023, 6, 20, 19, 18, 59, 953000))\n",
      "(8, 8, datetime.datetime(2023, 6, 20, 19, 18, 59, 953000))\n",
      "The result of select * from Reference_Event is:\n",
      "(1, 1, datetime.datetime(2023, 6, 20, 19, 16, 39, 923000))\n",
      "(2, 7, datetime.datetime(2023, 6, 20, 19, 19, 6, 153000))\n",
      "(3, 1, datetime.datetime(2023, 6, 20, 19, 19, 6, 153000))\n",
      "(4, 5, datetime.datetime(2023, 6, 20, 19, 19, 6, 157000))\n",
      "(5, 2, datetime.datetime(2023, 6, 20, 19, 19, 6, 157000))\n",
      "(6, 1, datetime.datetime(2023, 6, 20, 19, 19, 6, 157000))\n",
      "(7, 8, datetime.datetime(2023, 6, 20, 19, 19, 6, 157000))\n",
      "(8, 1, datetime.datetime(2023, 6, 20, 19, 19, 6, 160000))\n",
      "(9, 6, datetime.datetime(2023, 6, 20, 19, 19, 6, 160000))\n",
      "(10, 6, datetime.datetime(2023, 6, 20, 19, 19, 6, 160000))\n",
      "(11, 7, datetime.datetime(2023, 6, 20, 19, 19, 6, 160000))\n",
      "(12, 7, datetime.datetime(2023, 6, 20, 19, 19, 6, 163000))\n",
      "(13, 3, datetime.datetime(2023, 6, 20, 19, 19, 6, 163000))\n",
      "(14, 4, datetime.datetime(2023, 6, 20, 19, 19, 6, 163000))\n",
      "(15, 2, datetime.datetime(2023, 6, 20, 19, 19, 6, 167000))\n",
      "(16, 5, datetime.datetime(2023, 6, 20, 19, 19, 6, 167000))\n",
      "(17, 3, datetime.datetime(2023, 6, 20, 19, 19, 6, 167000))\n",
      "(18, 3, datetime.datetime(2023, 6, 20, 19, 19, 6, 170000))\n",
      "(19, 6, datetime.datetime(2023, 6, 20, 19, 19, 6, 170000))\n",
      "(20, 6, datetime.datetime(2023, 6, 20, 19, 19, 6, 170000))\n",
      "(21, 7, datetime.datetime(2023, 6, 20, 19, 19, 6, 170000))\n",
      "(22, 1, datetime.datetime(2023, 6, 20, 19, 19, 6, 170000))\n",
      "(23, 4, datetime.datetime(2023, 6, 20, 19, 19, 6, 173000))\n",
      "(24, 5, datetime.datetime(2023, 6, 20, 19, 19, 6, 173000))\n",
      "(25, 8, datetime.datetime(2023, 6, 20, 19, 19, 6, 173000))\n",
      "(26, 3, datetime.datetime(2023, 6, 20, 19, 19, 6, 173000))\n",
      "(27, 2, datetime.datetime(2023, 6, 20, 19, 19, 6, 177000))\n",
      "(28, 5, datetime.datetime(2023, 6, 20, 19, 19, 6, 177000))\n",
      "(29, 6, datetime.datetime(2023, 6, 20, 19, 19, 6, 177000))\n",
      "(30, 8, datetime.datetime(2023, 6, 20, 19, 19, 6, 177000))\n",
      "(31, 3, datetime.datetime(2023, 6, 20, 19, 19, 6, 177000))\n",
      "(32, 5, datetime.datetime(2023, 6, 20, 19, 19, 6, 177000))\n",
      "(33, 2, datetime.datetime(2023, 6, 20, 19, 19, 6, 180000))\n",
      "(34, 1, datetime.datetime(2023, 6, 20, 19, 19, 6, 180000))\n",
      "(35, 2, datetime.datetime(2023, 6, 20, 19, 19, 6, 180000))\n",
      "(36, 1, datetime.datetime(2023, 6, 20, 19, 19, 6, 180000))\n",
      "(37, 3, datetime.datetime(2023, 6, 20, 19, 19, 6, 180000))\n",
      "(38, 6, datetime.datetime(2023, 6, 20, 19, 19, 6, 180000))\n",
      "(39, 5, datetime.datetime(2023, 6, 20, 19, 19, 6, 180000))\n",
      "(40, 8, datetime.datetime(2023, 6, 20, 19, 19, 6, 183000))\n",
      "(41, 4, datetime.datetime(2023, 6, 20, 19, 19, 6, 183000))\n",
      "(42, 7, datetime.datetime(2023, 6, 20, 19, 19, 6, 183000))\n",
      "(43, 5, datetime.datetime(2023, 6, 20, 19, 19, 6, 183000))\n",
      "(44, 6, datetime.datetime(2023, 6, 20, 19, 19, 6, 187000))\n",
      "(45, 5, datetime.datetime(2023, 6, 20, 19, 19, 6, 187000))\n",
      "(46, 4, datetime.datetime(2023, 6, 20, 19, 19, 6, 187000))\n",
      "(47, 5, datetime.datetime(2023, 6, 20, 19, 19, 6, 187000))\n",
      "(48, 4, datetime.datetime(2023, 6, 20, 19, 19, 6, 190000))\n",
      "(49, 2, datetime.datetime(2023, 6, 20, 19, 19, 6, 190000))\n",
      "(50, 6, datetime.datetime(2023, 6, 20, 19, 19, 6, 190000))\n",
      "(51, 2, datetime.datetime(2023, 6, 20, 19, 19, 6, 190000))\n",
      "(52, 1, datetime.datetime(2023, 6, 20, 19, 19, 6, 190000))\n",
      "(53, 8, datetime.datetime(2023, 6, 20, 19, 19, 6, 190000))\n",
      "(54, 4, datetime.datetime(2023, 6, 20, 19, 19, 6, 190000))\n",
      "(55, 4, datetime.datetime(2023, 6, 20, 19, 19, 6, 190000))\n",
      "(56, 4, datetime.datetime(2023, 6, 20, 19, 19, 6, 193000))\n",
      "(57, 6, datetime.datetime(2023, 6, 20, 19, 19, 6, 193000))\n",
      "(58, 3, datetime.datetime(2023, 6, 20, 19, 19, 6, 193000))\n",
      "(59, 3, datetime.datetime(2023, 6, 20, 19, 19, 6, 193000))\n",
      "(60, 5, datetime.datetime(2023, 6, 20, 19, 19, 6, 193000))\n",
      "(61, 5, datetime.datetime(2023, 6, 20, 19, 19, 6, 193000))\n",
      "(62, 2, datetime.datetime(2023, 6, 20, 19, 19, 6, 197000))\n",
      "(63, 6, datetime.datetime(2023, 6, 20, 19, 19, 6, 197000))\n",
      "(64, 4, datetime.datetime(2023, 6, 20, 19, 19, 6, 197000))\n",
      "(65, 1, datetime.datetime(2023, 6, 20, 19, 19, 6, 197000))\n",
      "(66, 2, datetime.datetime(2023, 6, 20, 19, 19, 6, 197000))\n",
      "(67, 8, datetime.datetime(2023, 6, 20, 19, 19, 6, 197000))\n",
      "(68, 8, datetime.datetime(2023, 6, 20, 19, 19, 6, 200000))\n",
      "(69, 3, datetime.datetime(2023, 6, 20, 19, 19, 6, 200000))\n",
      "(70, 5, datetime.datetime(2023, 6, 20, 19, 19, 6, 200000))\n",
      "(71, 2, datetime.datetime(2023, 6, 20, 19, 19, 6, 200000))\n",
      "(72, 5, datetime.datetime(2023, 6, 20, 19, 19, 6, 200000))\n",
      "(73, 7, datetime.datetime(2023, 6, 20, 19, 19, 6, 200000))\n",
      "(74, 7, datetime.datetime(2023, 6, 20, 19, 19, 6, 200000))\n",
      "(75, 6, datetime.datetime(2023, 6, 20, 19, 19, 6, 203000))\n",
      "(76, 4, datetime.datetime(2023, 6, 20, 19, 19, 6, 203000))\n",
      "(77, 3, datetime.datetime(2023, 6, 20, 19, 19, 6, 203000))\n",
      "(78, 2, datetime.datetime(2023, 6, 20, 19, 19, 6, 203000))\n",
      "(79, 8, datetime.datetime(2023, 6, 20, 19, 19, 6, 203000))\n",
      "(80, 3, datetime.datetime(2023, 6, 20, 19, 19, 6, 207000))\n",
      "(81, 2, datetime.datetime(2023, 6, 20, 19, 19, 6, 207000))\n",
      "(82, 1, datetime.datetime(2023, 6, 20, 19, 19, 6, 207000))\n",
      "(83, 3, datetime.datetime(2023, 6, 20, 19, 19, 6, 207000))\n",
      "(84, 7, datetime.datetime(2023, 6, 20, 19, 19, 6, 207000))\n",
      "(85, 6, datetime.datetime(2023, 6, 20, 19, 19, 6, 207000))\n",
      "(86, 3, datetime.datetime(2023, 6, 20, 19, 19, 6, 210000))\n",
      "(87, 3, datetime.datetime(2023, 6, 20, 19, 19, 6, 210000))\n",
      "(88, 8, datetime.datetime(2023, 6, 20, 19, 19, 6, 210000))\n",
      "(89, 7, datetime.datetime(2023, 6, 20, 19, 19, 6, 210000))\n",
      "(90, 5, datetime.datetime(2023, 6, 20, 19, 19, 6, 210000))\n",
      "(91, 2, datetime.datetime(2023, 6, 20, 19, 19, 6, 210000))\n",
      "(92, 1, datetime.datetime(2023, 6, 20, 19, 19, 6, 210000))\n",
      "(93, 3, datetime.datetime(2023, 6, 20, 19, 19, 6, 210000))\n",
      "(94, 4, datetime.datetime(2023, 6, 20, 19, 19, 6, 210000))\n",
      "(95, 4, datetime.datetime(2023, 6, 20, 19, 19, 6, 213000))\n",
      "(96, 7, datetime.datetime(2023, 6, 20, 19, 19, 6, 213000))\n",
      "(97, 5, datetime.datetime(2023, 6, 20, 19, 19, 6, 213000))\n",
      "(98, 4, datetime.datetime(2023, 6, 20, 19, 19, 6, 213000))\n",
      "(99, 5, datetime.datetime(2023, 6, 20, 19, 19, 6, 213000))\n",
      "(100, 7, datetime.datetime(2023, 6, 20, 19, 19, 6, 213000))\n",
      "(101, 2, datetime.datetime(2023, 6, 20, 19, 19, 6, 217000))\n"
     ]
    }
   ],
   "source": [
    "# Cell 22\n",
    "\n",
    "select_all('select * from Link')\n",
    "select_all('select * from Create_Event')\n",
    "select_all('select * from Reference_Event')"
   ]
  },
  {
   "cell_type": "code",
   "execution_count": 24,
   "metadata": {},
   "outputs": [],
   "source": [
    "# Cell 23\n",
    "# Import needed libraries\n",
    "import pandas as pd \n",
    "import matplotlib.pyplot as plt"
   ]
  },
  {
   "cell_type": "code",
   "execution_count": 25,
   "metadata": {},
   "outputs": [
    {
     "name": "stderr",
     "output_type": "stream",
     "text": [
      "C:\\Users\\user\\AppData\\Local\\Temp\\ipykernel_8404\\2357132695.py:11: UserWarning: pandas only supports SQLAlchemy connectable (engine/connection) or database string URI or sqlite3 DBAPI2 connection. Other DBAPI2 objects are not tested. Please consider using SQLAlchemy.\n",
      "  create_count_data = pd.read_sql_query(create_count_query, conn_str)\n"
     ]
    },
    {
     "data": {
      "image/png": "[encoded data removed]",
      "text/plain": [
       "<Figure size 1000x600 with 1 Axes>"
      ]
     },
     "metadata": {},
     "output_type": "display_data"
    }
   ],
   "source": [
    "# Cell 24\n",
    "# Create Count Query for Create_Event\n",
    "create_count_query = '''\n",
    "    select long, count(*) as create_count\n",
    "    from Create_Event\n",
    "    inner join Link on Create_Event.link_id = Link.link_id\n",
    "    where datediff(day, Create_Event.create_at, getdate()) < 1\n",
    "    group by long\n",
    "'''\n",
    "\n",
    "create_count_data = pd.read_sql_query(create_count_query, conn_str)\n",
    "\n",
    "# Plot\n",
    "plt.figure(figsize=(10, 6))\n",
    "plt.bar(create_count_data['long'], create_count_data['create_count'])\n",
    "plt.xlabel('Long Link')\n",
    "plt.ylabel('Create Count')\n",
    "plt.title('Create Count of Links')\n",
    "plt.xticks(rotation=90)\n",
    "plt.show()\n"
   ]
  },
  {
   "cell_type": "code",
   "execution_count": 26,
   "metadata": {},
   "outputs": [
    {
     "name": "stderr",
     "output_type": "stream",
     "text": [
      "C:\\Users\\user\\AppData\\Local\\Temp\\ipykernel_8404\\3342189765.py:11: UserWarning: pandas only supports SQLAlchemy connectable (engine/connection) or database string URI or sqlite3 DBAPI2 connection. Other DBAPI2 objects are not tested. Please consider using SQLAlchemy.\n",
      "  reference_count_data = pd.read_sql_query(reference_count_query, conn_str)\n"
     ]
    },
    {
     "data": {
      "image/png": "[encoded data removed]",
      "text/plain": [
       "<Figure size 1000x600 with 1 Axes>"
      ]
     },
     "metadata": {},
     "output_type": "display_data"
    }
   ],
   "source": [
    "# Cell 25\n",
    "# Create Count Query for Reference_Event\n",
    "reference_count_query = '''\n",
    "    select long, count(*) as reference_count\n",
    "    from Reference_Event\n",
    "    inner join Link on Reference_Event.link_id = Link.link_id\n",
    "    where datediff(day, Reference_Event.reference_at, getdate()) < 1\n",
    "    group by long\n",
    "'''\n",
    "\n",
    "reference_count_data = pd.read_sql_query(reference_count_query, conn_str)\n",
    "\n",
    "# Plot\n",
    "plt.figure(figsize=(10, 6))\n",
    "plt.bar(reference_count_data['long'], reference_count_data['reference_count'])\n",
    "plt.xlabel('Long Link')\n",
    "plt.ylabel('Reference Count')\n",
    "plt.title('Reference Count of Links')\n",
    "plt.xticks(rotation=90)\n",
    "plt.show()"
   ]
  },
  {
   "cell_type": "code",
   "execution_count": 27,
   "metadata": {},
   "outputs": [
    {
     "name": "stdout",
     "output_type": "stream",
     "text": [
      "                        long  reference_count\n",
      "7  https://youtube.music.com               16\n",
      "6        https://youtube.com               15\n",
      "1          https://github.io               14\n"
     ]
    }
   ],
   "source": [
    "# Cell 26\n",
    "# Top 3 Reference Link\n",
    "top_3_links = reference_count_data.nlargest(3, 'reference_count')\n",
    "print(top_3_links)"
   ]
  },
  {
   "cell_type": "code",
   "execution_count": 28,
   "metadata": {},
   "outputs": [
    {
     "name": "stdout",
     "output_type": "stream",
     "text": [
      "Long Link: https://www.google.com, Reference Count: 11, Days Remaining: 7\n",
      "Long Link: https://github.io, Reference Count: 14, Days Remaining: 7\n",
      "Long Link: https://youtube.com, Reference Count: 15, Days Remaining: 7\n",
      "Long Link: https://aparat.ir, Reference Count: 13, Days Remaining: 7\n",
      "Long Link: https://youtube.music.com, Reference Count: 16, Days Remaining: 7\n",
      "Long Link: https://spotify.com, Reference Count: 12, Days Remaining: 7\n",
      "Long Link: https://linkedin.com, Reference Count: 9, Days Remaining: 7\n",
      "Long Link: https://w3school.com, Reference Count: 11, Days Remaining: 7\n"
     ]
    }
   ],
   "source": [
    "# Cell 27\n",
    "\n",
    "# Show all references\n",
    "# with count reference\n",
    "# and with remaining days\n",
    "\n",
    "final_query = '''\n",
    "    select Link.long, count(*) \n",
    "    as \n",
    "    reference_count,\n",
    "    datediff(day, getdate(), dateadd(day, 7, Create_Event.create_at)) as days_remaining\n",
    "    from Reference_Event\n",
    "    inner join Link on Reference_Event.link_id = Link.link_id\n",
    "    inner join Create_Event on Reference_Event.link_id = Create_Event.link_id\n",
    "    group by Link.long, Create_Event.create_at\n",
    "'''\n",
    "\n",
    "cursor.execute(final_query)\n",
    "\n",
    "# Fetch all results\n",
    "results = cursor.fetchall()\n",
    "\n",
    "# Display\n",
    "\n",
    "for result in results:\n",
    "    long_link = result.long\n",
    "    reference_count = result.reference_count\n",
    "    days_remaining = result.days_remaining\n",
    "    print(f'Long Link: {long_link}, Reference Count: {reference_count}, Days Remaining: {days_remaining}')\n"
   ]
  },
  {
   "cell_type": "code",
   "execution_count": 29,
   "metadata": {},
   "outputs": [
    {
     "data": {
      "text/plain": [
       "<function Cursor.close>"
      ]
     },
     "execution_count": 29,
     "metadata": {},
     "output_type": "execute_result"
    }
   ],
   "source": [
    "# Don't forget to commit and close\n",
    "# Cell 28\n",
    "\n",
    "cursor.commit()\n",
    "cursor.close"
   ]
  }
 ],
 "metadata": {
  "kernelspec": {
   "display_name": "Python 3",
   "language": "python",
   "name": "python3"
  },
  "language_info": {
   "codemirror_mode": {
    "name": "ipython",
    "version": 3
   },
   "file_extension": ".py",
   "mimetype": "text/x-python",
   "name": "python",
   "nbconvert_exporter": "python",
   "pygments_lexer": "ipython3",
   "version": "3.9.13"
  },
  "orig_nbformat": 4
 },
 "nbformat": 4,
 "nbformat_minor": 2
}
